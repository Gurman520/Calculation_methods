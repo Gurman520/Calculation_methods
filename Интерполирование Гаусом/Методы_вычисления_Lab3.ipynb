{
  "nbformat": 4,
  "nbformat_minor": 0,
  "metadata": {
    "colab": {
      "name": "Методы вычисления_Lab3.ipynb",
      "provenance": [],
      "collapsed_sections": []
    },
    "kernelspec": {
      "name": "python3",
      "display_name": "Python 3"
    },
    "language_info": {
      "name": "python"
    }
  },
  "cells": [
    {
      "cell_type": "code",
      "metadata": {
        "id": "nlKJ-hyF7glY"
      },
      "source": [
        "from sympy import diff\n",
        "import numpy as np\n",
        "import math\n",
        "import sympy as sp\n",
        "import matplotlib.pyplot as plt\n",
        "from numpy import cos, sin, exp"
      ],
      "execution_count": null,
      "outputs": []
    },
    {
      "cell_type": "code",
      "source": [
        "# Удиветельно, но Гаус короче и проще, наверное :)\n",
        "a = -1 # Так же указываем начало и конец диапазона по X \n",
        "b = 4\n",
        "test_x = 0.87 # Точка которую будем интерполировать\n",
        "eps = 0.0001 # Точность \n",
        "func = lambda x: np.exp(x + np.sin(x)) # Через Lambda функцию задается моя функция по варианту\n",
        "\n",
        "def gausse(x, y, v, H): # Функция интерполяции точки\n",
        "  j = np.abs(x - v).argmin() # Находим ближайщий элемент к искомой точки \n",
        "  t = (v - x[j]) / H # Находим t из формулы\n",
        "  y1 = y[j + 1] - y[j] # Находим значение y1\n",
        "  y2 = y[j - 1] - 2 * y[j] + y[j + 1] # Находим значение y2\n",
        "  L2 = y[j] + y1 * t + y2 * (t * (t - 1) / 2) # Находим значение Гауса\n",
        "  return L2\n",
        "\n",
        "def ras(): # Функция призванная нахождения H, что является главной головной болью в этой задаче\n",
        "  dx = sp.Symbol('x')\n",
        "  dif_func = sp.diff(sp.exp(dx + sp.sin(dx)), dx, 3) # Находим третью производную функции\n",
        "  print(dif_func)\n",
        "  # Найдем оценку сверху\n",
        "  diff_value = dif_func.subs(dx, b)\n",
        "  # Чтобы оценить производную сверху, пусть и очень грубо, мы вместо x подставляем конец диапазона b.\n",
        "  print(diff_value)\n",
        "  x = 1 / np.sqrt(3) # Это точка при которой достигается наибольшее значение выражения на следующей строчке в диапазоне от 0 до 1\n",
        "  t = abs(x * (x ** 2 - 1)) # Подставляем точку в выражение\n",
        "  h = ((eps * 6)/(eval(str(diff_value)) * t)) ** (1 / 3) # Находим H по формуле\n",
        "  return h\n",
        "\n",
        "X = []\n",
        "Y = []\n",
        "H = ras() # Вызываем функцию нахождения H\n",
        "print(H)\n",
        "X = np.arange(a, b, H) # Находим все значения Х\n",
        "Y = [func(i) for i in X] # Находим все значения У\n",
        "print(len(X))\n",
        "\n",
        "# Тут все довольно просто, находим значение точки в функции, значение по Гаусу и погрешность\n",
        "print(f\"F({test_x}) = {func(test_x)}\")\n",
        "print(f\"Gaus({test_x}) = {gausse(X, Y, test_x, H)}\")\n",
        "print(f\"Погрешность = {abs(func(x) - gausse(X, Y, test_x, H))}\")\n",
        "print(f\"Погрешность = {abs(func(x) - gausse(X, Y, test_x, H)) < eps}\")\n"
      ],
      "metadata": {
        "colab": {
          "base_uri": "https://localhost:8080/"
        },
        "id": "tP4X7OP-zUsn",
        "outputId": "a8d5c0e6-6c5b-484c-a328-d01d2deca5a9"
      },
      "execution_count": null,
      "outputs": [
        {
          "output_type": "stream",
          "name": "stdout",
          "text": [
            "((cos(x) + 1)**3 - 3*(cos(x) + 1)*sin(x) - cos(x))*exp(x + sin(x))\n",
            "((cos(4) + 1)**3 - cos(4) - 3*(cos(4) + 1)*sin(4))*exp(sin(4) + 4)\n",
            "0.0345032511444565\n",
            "145\n",
            "F(0.87) = 5.126016962390731\n",
            "Gaus(0.87) = 5.1260174126338605\n",
            "Погрешность = 4.5024312989028203e-07\n",
            "Погрешность = True\n"
          ]
        }
      ]
    },
    {
      "cell_type": "code",
      "source": [
        ""
      ],
      "metadata": {
        "id": "KpanakRs-gqV"
      },
      "execution_count": null,
      "outputs": []
    }
  ]
}